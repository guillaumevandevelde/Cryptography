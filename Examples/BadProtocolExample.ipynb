{
 "cells": [
  {
   "cell_type": "code",
   "execution_count": 1,
   "metadata": {},
   "outputs": [],
   "source": [
    "from cryptocourse import basic_dh\n",
    "from cryptocourse import primes\n",
    "from cryptocourse import euclidean\n",
    "from cryptocourse import basic_ec\n",
    "import math\n",
    "import argon2\n",
    "import binascii\n",
    "import passlib\n",
    "import hashlib\n",
    "from operator import xor"
   ]
  },
  {
   "cell_type": "code",
   "execution_count": 18,
   "metadata": {},
   "outputs": [
    {
     "name": "stdout",
     "output_type": "stream",
     "text": [
      "Sleutel A : 0b11001100\n",
      "Sleutel B : 0b110011\n",
      "Bericht : 0b10010011\n",
      "Message A -> B : 0b1011111\n",
      "Message B -> A : 0b1101100\n",
      "Message B -> A -> B : 0b10100000\n",
      "Message B -> A -> B -> A : 0b10010011\n"
     ]
    }
   ],
   "source": [
    "Message = b'10010011'\n",
    "Ka = b'11001100'\n",
    "Kb = b'00110011'\n",
    "\n",
    "\n",
    "AB = bin(xor(int(Message,2), int(Ka,2)))\n",
    "BA = bin(xor(int(AB,2), int(Kb,2)))\n",
    "BAB = bin(xor(int(BA,2), int(Ka,2)))\n",
    "BABA = bin(xor(xor(int(AB,2), int(BA,2)), int(BAB,2)))\n",
    "\n",
    "print(f\"Sleutel A : {bin(int(Ka,2))}\")\n",
    "print(f\"Sleutel B : {bin(int(Kb,2))}\")\n",
    "print(f\"Bericht : {bin(int(Message,2))}\")\n",
    "print(f'Message A -> B : {AB}')\n",
    "print(f'Message B -> A : {BA}')\n",
    "print(f'Message B -> A -> B : {BAB}')\n",
    "print(f'Message B -> A -> B -> A : {BABA}')\n",
    "\n"
   ]
  }
 ],
 "metadata": {
  "kernelspec": {
   "display_name": "Python 3",
   "language": "python",
   "name": "python3"
  },
  "language_info": {
   "codemirror_mode": {
    "name": "ipython",
    "version": 3
   },
   "file_extension": ".py",
   "mimetype": "text/x-python",
   "name": "python",
   "nbconvert_exporter": "python",
   "pygments_lexer": "ipython3",
   "version": "3.10.10"
  }
 },
 "nbformat": 4,
 "nbformat_minor": 2
}
