{
 "cells": [
  {
   "cell_type": "code",
   "execution_count": null,
   "metadata": {},
   "outputs": [],
   "source": []
  },
  {
   "cell_type": "markdown",
   "metadata": {},
   "source": [
    "# One Time Pad Used Twice -  Theory\n",
    "\n"
   ]
  },
  {
   "cell_type": "markdown",
   "metadata": {},
   "source": [
    "- Suppose you have two plaintext messages P1 and P2 that have both been encrypted using the same\n",
    "one time pad, resulting in C1 and C2.  \n",
    "- You observe C1 and C2. P1 and P2 are unknown.   \n",
    "- Find a relationship between P1 and P2.   \n",
    "- Can this relationship be exploited ?\n",
    "\n",
    "---\n",
    "\n",
    "## Solution\n",
    "\n",
    "- C1 = P1 ⊕ ONE_TIME_PAD\n",
    "- C2 = P2 ⊕ ONE_TIME_PAD\n",
    "- C1 ⊕ C2 = P1 ⊕ P2\n",
    "- If one of both pairs (C1,P1) or (C2, P2) is known, the other one can be calculated\n",
    "- Even if both pairs are unknown, you could still deduce important information, see next slide\n",
    "\n",
    "XOR van cipher text kan kenmerken van de plaintext bloot geven\n",
    "\n",
    "![image.png](attachment:image.png)\n"
   ]
  },
  {
   "cell_type": "markdown",
   "metadata": {},
   "source": [
    "# CBC Mode, Two Cipher blocks are equal - None\n",
    "\n"
   ]
  },
  {
   "cell_type": "markdown",
   "metadata": {},
   "source": [
    "- Suppose two CBC blocks Ci and Cj are (by random chance) equal. What can you deduce ? Any\n",
    "information you obtain about plaintexts by observing ciphertexts is called “information leakage”. All\n",
    "modes of operation leak something.\n",
    "\n",
    "---\n",
    "\n",
    "## Solution\n",
    "\n",
    "- C[i] = E(P[i] ⊕ C[i-1])\n",
    "- C[j] = E(P[j] ⊕ C[j-1])\n",
    "- P[i] ⊕ C[i-1] =P[j] ⊕ C[j-1]\n",
    "- P[i] ⊕ P[j] = C[i-1] ⊕ C[j-1]\n",
    "  \n",
    "- Same conclusion as previous exercise. If one of the pairs are known, the other one\n",
    "can be calculated. If the two plaintexts are somehow “related”, the differential can\n",
    "leak important information.\n"
   ]
  },
  {
   "cell_type": "markdown",
   "metadata": {},
   "source": [
    "# Weak keys - None"
   ]
  },
  {
   "cell_type": "markdown",
   "metadata": {},
   "source": [
    "- Assume you take as key all 0’s\n",
    "- What happens if this key is chosen for DES? Does this apply for\n",
    "all Feistel ciphers ?\n",
    "- What happens if such a key is chosen for AES ?\n",
    "\n",
    "---\n",
    "\n",
    "## Solution\n",
    "\n",
    "- DES keys are just permutations of the master key. So, all round keys are 0’s.\n",
    "- When all round keys are 0’s, all round keys are equal, so the reverse key schedule and the key\n",
    "schedule are the same\n",
    "- So, encryption == decryption\n",
    "- There are also other DES keys that translate to 16 equal keys (0101010101….01)\n",
    "- Feistel does not specify anything about the key schedule. So, this does not apply for all Feistel\n",
    "ciphers\n",
    "- The AES key scheduling algorithm does not have a similar weakness (but a key with just 0’s is still a\n",
    "bad idea)\n"
   ]
  },
  {
   "cell_type": "markdown",
   "metadata": {},
   "source": [
    "# ECB / CBC Decryption - None\n",
    "\n"
   ]
  },
  {
   "cell_type": "markdown",
   "metadata": {},
   "source": [
    "- Assume a long message stream P and corresponding cipher stream C. The attacker knows that\n",
    "we use AES-ECB. We observe P1, P2 and C1, C2. P1, P2, C1, C2 are four 128 bit blocks. P1, P2,\n",
    "C1, C2 are known. \n",
    "\n",
    "- Assume now that the algorithm has been changed to AES-CBC. The same key is still used. The\n",
    "IV is implicit and consists of all 0’s. We observe (this is a coincidence) C1, C2 as the first blocks\n",
    "of ciphertext. The corresponding plaintext is P3, P4. We do not know P3, P4. What do you\n",
    "know about P3, P4 ?\n",
    "  \n",
    "- Answer the same question assuming that the algorithm has been changed to AES-CTR. The\n",
    "same key is still used. The (input) CTR values are known to the attacker. The IV is implicit and\n",
    "consists of all 0’s. We observe (this is a coincidence) C1, C2 as the first blocks of ciphertext. The\n",
    "corresponding plaintext is Q3, Q4. We do not know Q3, Q4. What do you know about Q3, Q4 ?  \n",
    "\n",
    "---\n",
    "\n",
    "## solution AES - CBC\n",
    "\n",
    "- Using AES-ECB:\n",
    "- E(K,P1) = C1\n",
    "- E(K,P2) = C2\n",
    "- Using AES-CBC:\n",
    "- E(K,P3 ⊕ 0) = C1\n",
    "- E(K, P4 ⊕ C1) = C2\n",
    "- P1 = P3  => P3 = P1\n",
    "- P2 = P4 ⊕ C1 => P4 = P2 ⊕ C1\n",
    "\n",
    "![image.png](attachment:image.png)\n",
    "\n",
    "## solution AES CTR\n",
    "- Using AES-ECB:\n",
    "- E(K,P1) = C1\n",
    "- E(K,P2) = C2\n",
    "- Using AES-CTR:\n",
    "- P3 ⊕ E(K,CTR1) = C1\n",
    "- P4 ⊕ E(K, CTR2) = C2\n",
    "  \n",
    "- No conclusion. The only thing we could\n",
    "check is whether the two known CTR values\n",
    "happen to be equal to P1 or P2.\n",
    "\n",
    "\n",
    "![image-2.png](attachment:image-2.png)\n"
   ]
  },
  {
   "cell_type": "markdown",
   "metadata": {},
   "source": [
    "# Man in the middle, CBC - Theory"
   ]
  },
  {
   "cell_type": "markdown",
   "metadata": {},
   "source": [
    "- Suppose CBC mode and the random IV is sent as the first block.\n",
    "- You are a man in the middle. You do not know the key nor the plaintext, but you know the plaintext\n",
    "contains an amount to be paid i.e. a 32 bits number from bit position 10 to 41.\n",
    "- You also know that the amount is most probably slightly more than 2^10, but definitely less than 2^13.\n",
    "- Can you change the amount? (Make it higher, e.g. in the order of 2^16)\n",
    "\n",
    "---\n",
    "\n",
    "## Solution\n",
    "\n",
    "- IV = a random 128-bit number that is known to the attacker (sent in clear text as the first block)\n",
    "- The decryption of the first block by the receiver = P1 = D(K,C1) ⊕ IV\n",
    "- The 32 bits number looks like this: 0000000000000000000XXXXXXXXXXXXX (32 = 19 zero-bits + 13 other\n",
    "bits)\n",
    "- Say we want to change this number to 0000000000000001000XXXXXXXXXXXXX (16th bit position is a 1, this\n",
    "number starts at position 10 in the block)\n",
    "- So, we need to switch the 25th bit of the first block by inverting the 25th bit of the IV"
   ]
  },
  {
   "cell_type": "markdown",
   "metadata": {},
   "source": [
    "# Encryption Failure - None"
   ]
  },
  {
   "cell_type": "markdown",
   "metadata": {},
   "source": [
    "- Bob Jones used an old block cipher cryptosystem to encrypt a sensitive and confidential (English language)\n",
    "file on his notebook. He used 32 bit blocks, a 56 bit key, ECB and he only used the selected key once. He\n",
    "moved the key onto a USB hard drive which was stored in a safe deposit box. Bob's notebook was stolen.\n",
    "Within a few days Bob discovered the contents of his encrypted file on the Internet. What is the primary\n",
    "reason why Bob's file was decrypted so quickly?\n",
    "- If the encrypted file would have used a technique similar to XTS-AES (using the sector number and the\n",
    "position within the sector as a way to further tweak the cipher), would this have helped ?\n",
    "- Assume that the attacker knows all details of the algorithm that was used.\n",
    "\n",
    "---\n",
    "\n",
    "## Solution\n",
    "\n",
    "- The main weakness is the 56 bit key. With brute force, this can be attacked in about one hour (DES is also 56 bit keys). 2^56 =\n",
    "2^6 * 2^50 = 64 * (2^10)^5 = 64 * (10^3)^5 = 64* 10^15 = 6 * 10^16\n",
    "- With this brute force technique (using all 2^56 keys), he should decrypt some small parts of the file and then use English\n",
    "language recognition software to detect English text fragments\n",
    "- The 32 bit blocks are not necessarily a weakness. 32 bit blocks means that the encryption algorithm is a function that translates\n",
    "32 bits into 32 bits. This may not seem a lot but there are still many possibilities of such translations.\n",
    "The exact number is (2^32) ! . So, looking for all the possible combinations of 32 bit blocks is not a good way to attack. The\n",
    "advantage of this attack would have been that you do not need to know the algorithm, just the block size.\n",
    "- To give you an idea of large factorials: 52 ! Is the number of possible orders in a deck of cards. 52 ! = 8.06 * 10^67\n",
    "- Because of the 32 bit blocks = only 4 characters, frequency analysis of English language recognition software is possible\n",
    "- ECB is weak and can be used to identify identical blocks, but you will need more information in order to fully decrypt the\n",
    "ciphertext. Frequency of 4-characterstrings is not likely to immediately reveal something (e.g. “the “ and “ the” have the highest\n",
    "frequency but this will not help you a lot). If CBC or CTR was used, the frequency analysis by English language recognition\n",
    "software would not have worked.\n",
    "- The XTS-AES tweak would not have helped because the laptop is stolen and the sector numbers and positions within the sector\n",
    "are known to he attacker (and the algorithm is known to the attacker)."
   ]
  }
 ],
 "metadata": {
  "language_info": {
   "name": "python"
  }
 },
 "nbformat": 4,
 "nbformat_minor": 2
}
