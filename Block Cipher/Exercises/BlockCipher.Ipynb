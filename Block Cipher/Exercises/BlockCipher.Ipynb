{
 "cells": [
  {
   "cell_type": "markdown",
   "metadata": {},
   "source": [
    "# Block Cipher, Two PlainTexts with equal CTR Nonce - Exercises\n",
    "\n"
   ]
  },
  {
   "cell_type": "markdown",
   "metadata": {},
   "source": [
    "- Suppose you, as an attacker, observe the following 32 byte ciphertext C:\n",
    "  \n",
    "    - C1 = 0x4664DC0697BBFE69330715079BA6C23D \n",
    "\n",
    "- Suppose you also observe the following 32 byte ciphertext D :\n",
    "  \n",
    "    - D1 = 0x517ECC05C3BDEA3B33570E1BD897D530 \n",
    "\n",
    "- Suppose you know both ciphertexts were generated using AES and CTR mode with the same nonce. The\n",
    "nonce is implicit, so it is not part of he ciphertext.  \n",
    "\n",
    "- You also know the plaintext P corresponding to C:\n",
    "  \n",
    "  - P1 = 0x43727970746F67726170687920437279 \n",
    "\n",
    "- What information, if any, can you infer about plaintext Q corresponding to D?  \n",
    "\n",
    "\n",
    "  ---\n",
    "\n",
    "- AES => block length = 128 = 16 bytes\n",
    "- 32 bytes => 2 blocks of 16 bytes\n",
    "- C1 = E(ctr) ⊕ P1 => E(ctr) = C1 ⊕ P1\n",
    "- C2 = E(ctr+1) ⊕ P2 => E(ctr+1) = C2 ⊕ P2\n",
    "- D1 = E(ctr) ⊕ Q1 => Q1 = D1 ⊕ E(ctr) => Q1 = D1 ⊕ C1 ⊕ P1\n",
    "- D2 = E(ctr+1) ⊕ Q2 => Q2 = D2 ⊕ E(ctr+1) => Q2 = D2 ⊕ C2 ⊕ P2"
   ]
  },
  {
   "cell_type": "code",
   "execution_count": 6,
   "metadata": {},
   "outputs": [
    {
     "name": "stdout",
     "output_type": "stream",
     "text": [
      "0x54686973206973206120736563726574\n",
      "0x202020436f6e666964656e7469616c21\n"
     ]
    }
   ],
   "source": [
    "from operator import xor\n",
    "\n",
    "C1 = 0x4664DC0697BBFE69330715079BA6C23D\n",
    "C2 = 0x2B84DE4F908D7D34AACE968B64F3DF75\n",
    "\n",
    "D1 = 0x517ECC05C3BDEA3B33570E1BD897D530\n",
    "D2 = 0x7BD0916B8D826B35B78BBB8D74E2C73B\n",
    "\n",
    "P1 = 0x43727970746F67726170687920437279\n",
    "P2 = 0x70746F6772617068792043727970746F\n",
    "\n",
    "Q1 = xor(C1, xor(D1, P1))\n",
    "Q2 = xor(C2, xor(D2, P2))\n",
    "\n",
    "print(hex(Q1))\n",
    "print(hex(Q2))\n"
   ]
  },
  {
   "cell_type": "markdown",
   "metadata": {},
   "source": [
    "# Block Cipher Calculation - Exercise!\n",
    "\n",
    "  "
   ]
  },
  {
   "attachments": {
    "image.png": {
     "image/png": "[encoded data removed]"
    }
   },
   "cell_type": "markdown",
   "metadata": {},
   "source": [
    "- A simple AES-like algorithm with block size 128 bits.\n",
    "- It consists of 1 round only.\n",
    "- The sequence of operations is an S-box substitution, a permutation, and an XOR with the key\n",
    "- The S-box: see slide\n",
    "- The permutation permutes bytes\n",
    "  - say we have b = 0x1234567890, and s = [3,2,4,1,0], then permute (b,s) = 0x5612347890\n",
    "  - We need to permute the 128 bits sequence according to this sequence: [15, 0, 14, 1, 13, 2, 12, 3, 11, 4, 10, 5, 9, 6, 8, 7]\n",
    "- The key is 0x1032547698BADCFE1032547698BADCFE\n",
    "- The input is 0x01002300450067008900AB00CD00EF00\n",
    "- Question: what is the cipher (in hex)?\n",
    "\n",
    "![image.png](attachment:image.png)"
   ]
  },
  {
   "cell_type": "code",
   "execution_count": 21,
   "metadata": {},
   "outputs": [
    {
     "name": "stdout",
     "output_type": "stream",
     "text": [
      "61\n",
      "61\n",
      "62\n",
      "63\n",
      "61\n",
      "Cipher 1 : 0x300d72b0b15aafcc\n",
      "Cipher 2 : 0xeadfb483fe08b585\n"
     ]
    }
   ],
   "source": [
    "from cryptocourse import permute\n",
    "from operator import xor\n",
    "\n",
    "\n",
    "\n",
    "plain1 =         0x1122334455667788\n",
    "plain2 =         0x1021324354657687\n",
    "SboxSubsitute1 = 0x2d02bac141652027\n",
    "SboxSubsitute2 = 0x7f4da0f293bf69e1\n",
    "\n",
    "subkey1 = 0x1234567890ABCDEF\n",
    "subkey2 = 0xFEDCBA0987654321\n",
    "\n",
    "permuteSeq= [2,3,1,4,6,7,0,5]\n",
    "\n",
    "print(plain1.bit_length())\n",
    "print(plain2.bit_length())\n",
    "print(SboxSubsitute1.bit_length())\n",
    "print(SboxSubsitute2.bit_length())\n",
    "print(subkey1.bit_length())\n",
    "\n",
    "SboxSubsitutexor1 = xor(SboxSubsitute1, subkey1)\n",
    "\n",
    "perm1 = permute.permute(SboxSubsitutexor1, permuteSeq)\n",
    "cipher = xor(perm1, subkey2)\n",
    "\n",
    "SboxSubsitutexor2 = xor(SboxSubsitute2, subkey1)\n",
    "\n",
    "perm2 = permute.permute(SboxSubsitutexor2, permuteSeq)\n",
    "cipher2 = xor(perm2, subkey2)\n",
    "\n",
    "print(\"Cipher 1 :\", hex(cipher))\n",
    "print(\"Cipher 2 :\", hex(cipher2))"
   ]
  },
  {
   "cell_type": "markdown",
   "metadata": {},
   "source": [
    "# Example with inverse S-box - block size 64"
   ]
  },
  {
   "cell_type": "code",
   "execution_count": 32,
   "metadata": {},
   "outputs": [
    {
     "name": "stdout",
     "output_type": "stream",
     "text": [
      "plain 1 bit length : 61\n",
      "plain 2 bit length : 61\n",
      "sbox1 bit length : 62\n",
      "sbox2 bit length : 63\n",
      "subkey1 bit length : 61\n",
      "subkey2 bit length : 64\n",
      "ECB Cipher 1 : 0x300d72b0b15aafcc\n",
      "ECB Cipher 2 : 0xeadfb483fe08b585\n",
      "CBC2 to sbox : 0x202c40f3e53fd94b\n",
      "CBC : Cipher 1 = 0x300d72b0b15aafcc, Cipher 2 = 0xe10f6504755f7d53\n"
     ]
    }
   ],
   "source": [
    "from cryptocourse import permute\n",
    "from operator import xor\n",
    "\n",
    "\n",
    "plain1 =         0x1122334455667788\n",
    "plain2 =         0x8877665544332211\n",
    "SboxSubsitute1 = 0x8293c31bfc33f5c4\n",
    "SboxSubsitute2 = 0xC4F533FC1BC39382\n",
    "\n",
    "plain1 =         0x1122334455667788\n",
    "plain2 =         0x1021324354657687\n",
    "SboxSubsitute1 = 0x2d02bac141652027\n",
    "SboxSubsitute2 = 0x7f4da0f293bf69e1\n",
    "\n",
    "subkey1 = 0x1234567890ABCDEF\n",
    "subkey2 = 0xFEDCBA0987654321\n",
    "\n",
    "permuteSeq= [2,3,1,4,6,7,0,5]\n",
    "\n",
    "print(\"plain 1 bit length :\" ,plain1.bit_length())\n",
    "print(\"plain 2 bit length :\" ,plain2.bit_length())\n",
    "print(\"sbox1 bit length :\", SboxSubsitute1.bit_length())\n",
    "print(\"sbox2 bit length :\",SboxSubsitute2.bit_length())\n",
    "print(\"subkey1 bit length :\", subkey1.bit_length())\n",
    "print(\"subkey2 bit length :\", subkey2.bit_length())\n",
    "\n",
    "SboxSubsitutexor1 = xor(SboxSubsitute1, subkey1)\n",
    "\n",
    "perm1 = permute.permute(SboxSubsitutexor1, permuteSeq)\n",
    "cipher = xor(perm1, subkey2)\n",
    "\n",
    "SboxSubsitutexor2 = xor(SboxSubsitute2, subkey1)\n",
    "\n",
    "perm2 = permute.permute(SboxSubsitutexor2, permuteSeq)\n",
    "cipher2 = xor(perm2, subkey2)\n",
    "\n",
    "print(\"ECB Cipher 1 :\", hex(cipher))\n",
    "print(\"ECB Cipher 2 :\", hex(cipher2))\n",
    "\n",
    "#CBC => cipher block chaining\n",
    "#initialisation vector\n",
    "IV = 0x00000000000\n",
    "#XOR before encryption with cipher from chain\n",
    "cbc2 = xor(plain2, cipher)\n",
    "print(\"CBC2 to sbox :\", hex(cbc2)) \n",
    "#Sbox,perm, xor with key\n",
    "cbc2toSbox= 0xeec7f73f64c6f408\n",
    "sboxcbc2 =  0x28c6687543b4bf30\n",
    "SboxcbcSubsitutexor2 = xor(sboxcbc2, subkey1)\n",
    "permcbc2 = permute.permute(SboxcbcSubsitutexor2,permuteSeq)\n",
    "ciphercbc2 = xor(permcbc2, subkey2) \n",
    "\n",
    "print(f'CBC : Cipher 1 = {hex(cipher)}, Cipher 2 = {hex(ciphercbc2)}')\n",
    "\n"
   ]
  },
  {
   "cell_type": "code",
   "execution_count": 45,
   "metadata": {},
   "outputs": [
    {
     "name": "stdout",
     "output_type": "stream",
     "text": [
      "Plain length: 253\n",
      "plain 1 bit length : 125\n",
      "plain 2 bit length : 110\n",
      "sbox1 bit length : 124\n",
      "sbox2 bit length : 127\n",
      "key bit length : 128\n",
      "ECB Cipher 1 : 0x378fb45e2a8a4779bb92a3a112299445\n",
      "ECB Cipher 2 : 0x378fb45e2a8a4779bb92a3a11229cf45\n"
     ]
    }
   ],
   "source": [
    "from cryptocourse import permute\n",
    "from operator import xor\n",
    "\n",
    "plain = 0x1000200030004000500060007000800010002000300040005000600070008001\n",
    "print(\"Plain length:\",plain.bit_length())\n",
    "\n",
    "plain1 =         0x10002000300040005000600070008001\n",
    "plain2 =         0x00002000300040005000600070008001\n",
    "SboxSubsitute1 = 0x09526a52d55230523652a5523852bf7c\n",
    "SboxSubsitute2 = 0x52526a52d55230523652a5523852bf7c\n",
    "\n",
    "\n",
    "key = 0x88f38c0c8fd8712b8bc076f3787b9d17\n",
    "\n",
    "\n",
    "permuteSeq= [1,0,3,2,5,4,7,6,9,8,11,10,13,12,15,14]\n",
    "\n",
    "print(\"plain 1 bit length :\" ,plain1.bit_length())\n",
    "print(\"plain 2 bit length :\" ,plain2.bit_length())\n",
    "print(\"sbox1 bit length :\", SboxSubsitute1.bit_length())\n",
    "print(\"sbox2 bit length :\",SboxSubsitute2.bit_length())\n",
    "print(\"key bit length :\", key.bit_length())\n",
    "\n",
    "\n",
    "perm1 = permute.permute(SboxSubsitute1, permuteSeq)\n",
    "cipher = xor(perm1, key)\n",
    "\n",
    "perm2 = permute.permute(SboxSubsitute2, permuteSeq)\n",
    "cipher2 = xor(perm2, key)\n",
    "\n",
    "print(\"ECB Cipher 1 :\", hex(cipher))\n",
    "print(\"ECB Cipher 2 :\", hex(cipher2))\n",
    "\n",
    "\n",
    "\n"
   ]
  },
  {
   "cell_type": "markdown",
   "metadata": {},
   "source": [
    "# Variations of block cipher calculation - Exercise"
   ]
  },
  {
   "cell_type": "markdown",
   "metadata": {},
   "source": [
    "- Suppose there are two blocks\n",
    "  - 0x01002300450067008900AB00CD00EF00\n",
    "  - 0x01002300450067008900AB00CD00EF01\n",
    "- What if we use ECB?\n",
    "- What if we use CBC? (take IV = 0)\n",
    "- What if we use CTR with counter values:\n",
    "  - CTR1 = 0x00000000000000000000000000000001 and\n",
    "  - CTR2 = 0x00000000000000000000000000000002\n",
    "- If I would ask to decrypt, you should use the inverse S-box (should be given)\n",
    "  - omgekeerd algortime, elke stap omdraaien. Sbox met inverse sbox, inverse permutatie, xor blijft xor.\n",
    "- I may provide S-box and inverse S-box, but you may only need one\n",
    "  - \n",
    "- I may not say there are two blocks, but you can count yourself if you know the block size"
   ]
  },
  {
   "cell_type": "code",
   "execution_count": 15,
   "metadata": {},
   "outputs": [
    {
     "name": "stdout",
     "output_type": "stream",
     "text": [
      "ECB : Cipher 1 = 0xfe689cb1e13805aceccea88a64462002, Cipher 2 = 0xfe689cb1e13805acfecea88a64462002\n",
      "CBC : Cipher 1 = 0xfe689cb1e13805aceccea88a64462002, Cipher 2 = 0xa6094ae0e3ab6477017a8291fcbc990d\n",
      "CTR : Cipher 1 = 0xedce8b8a2146470277ce038aa946cf02, Cipher 2 = 0xedce8b8a2146470244ce038aa946cf03\n"
     ]
    }
   ],
   "source": [
    "block1 = 0x01002300450067008900AB00CD00EF00\n",
    "block2 = 0x01002300450067008900AB00CD00EF01\n",
    "\n",
    "\n",
    "SboxBlock1 = 0xeefc5afcc8fcc7fc79fc82fcd9fc52fc\n",
    "SboxBlock2 = 0xeefc5afcc8fcc7fc79fc82fcd9fc52ee\n",
    "\n",
    "key= 0x1032547698BADCFE1032547698BADCFE\n",
    "permSeq = [15, 0, 14, 1, 13, 2, 12, 3, 11, 4, 10, 5, 9, 6, 8, 7]\n",
    "\n",
    "#ECB - Electronic Code Book\n",
    "\n",
    "#Sbox\n",
    "#Permutation\n",
    "#XOR with key\n",
    "perm1 = permute.permute(SboxBlock1,permSeq)\n",
    "perm2 = permute.permute(SboxBlock2,permSeq)\n",
    "\n",
    "cipher1 = xor(perm1, key)\n",
    "cipher2 = xor(perm2, key)\n",
    "\n",
    "print(f'ECB : Cipher 1 = {hex(cipher1)}, Cipher 2 = {hex(cipher2)}')\n",
    "\n",
    "#CBC => cipher block chaining\n",
    "#initialisation vector\n",
    "IV = 0x00000000000\n",
    "#XOR before encryption with cipher from chain\n",
    "cbc2 = xor(block2, cipher1)\n",
    "#Sbox,perm, xor with key\n",
    "sboxcbc2 = 0xb6f33b451e0696647be711d6b8488911\n",
    "permcbc2 = permute.permute(sboxcbc2,permSeq)\n",
    "ciphercbc2 = xor(permcbc2, key) \n",
    "\n",
    "print(f'CBC : Cipher 1 = {hex(cipher1)}, Cipher 2 = {hex(ciphercbc2)}')\n",
    "\n",
    "\n",
    "#CTR => Counter  => decryption is same as encryption \n",
    "ctr1 = 0x00000000000000000000000000000001\n",
    "ctr2 = 0x00000000000000000000000000000002\n",
    "\n",
    "#counter encryption\n",
    "sboxctr1 = 0xfcfcfcfcfcfcfcfcfcfcfcfcfcfcfcee\n",
    "sboxctr2 = 0xfcfcfcfcfcfcfcfcfcfcfcfcfcfcfcdd\n",
    "\n",
    "permctr1 = permute.permute(sboxctr1,permSeq)\n",
    "permctr2 = permute.permute(sboxctr2,permSeq)\n",
    "\n",
    "outputctr1 = xor(permctr1, key)\n",
    "outputctr2 = xor(permctr2, key)\n",
    "\n",
    "#xor with plain text\n",
    "\n",
    "cipherctr1 = xor(outputctr1, block1)\n",
    "cipherctr2 = xor(outputctr2, block2)\n",
    "\n",
    "print(f'CTR : Cipher 1 = {hex(cipherctr1)}, Cipher 2 = {hex(cipherctr2)}')\n",
    "\n"
   ]
  },
  {
   "cell_type": "code",
   "execution_count": null,
   "metadata": {},
   "outputs": [],
   "source": [
    "block1 = 0x01002300450067008900AB00CD00EF00\n",
    "block2 = 0x01002300450067008900AB00CD00EF01\n",
    "\n",
    "\n",
    "SboxBlock1 = 0xeefc5afcc8fcc7fc79fc82fcd9fc52fc\n",
    "SboxBlock2 = 0xeefc5afcc8fcc7fc79fc82fcd9fc52ee\n",
    "\n",
    "key= 0x1234567890ABCDEFFEDCBA0987654321FEDCBA09876543211234567890ABCDEF.\n",
    "permSeq = [15, 0, 14, 1, 13, 2, 12, 3, 11, 4, 10, 5, 9, 6, 8, 7]\n",
    "\n",
    "#ECB - Electronic Code Book\n",
    "\n",
    "#Sbox\n",
    "#Permutation\n",
    "#XOR with key\n",
    "perm1 = permute.permute(SboxBlock1,permSeq)\n",
    "perm2 = permute.permute(SboxBlock2,permSeq)\n",
    "\n",
    "cipher1 = xor(perm1, key)\n",
    "cipher2 = xor(perm2, key)\n",
    "\n",
    "print(f'ECB : Cipher 1 = {hex(cipher1)}, Cipher 2 = {hex(cipher2)}')\n",
    "\n",
    "#CBC => cipher block chaining\n",
    "#initialisation vector\n",
    "IV = 0x00000000000\n",
    "#XOR before encryption with cipher from chain\n",
    "cbc2 = xor(block2, cipher1)\n",
    "#Sbox,perm, xor with key\n",
    "sboxcbc2 = 0xb6f33b451e0696647be711d6b8488911\n",
    "permcbc2 = permute.permute(sboxcbc2,permSeq)\n",
    "ciphercbc2 = xor(permcbc2, key) \n",
    "\n",
    "print(f'CBC : Cipher 1 = {hex(cipher1)}, Cipher 2 = {hex(ciphercbc2)}')\n",
    "\n",
    "\n",
    "#CTR => Counter  => decryption is same as encryption \n",
    "ctr1 = 0x00000000000000000000000000000001\n",
    "ctr2 = 0x00000000000000000000000000000002\n",
    "\n",
    "#counter encryption\n",
    "sboxctr1 = 0xfcfcfcfcfcfcfcfcfcfcfcfcfcfcfcee\n",
    "sboxctr2 = 0xfcfcfcfcfcfcfcfcfcfcfcfcfcfcfcdd\n",
    "\n",
    "permctr1 = permute.permute(sboxctr1,permSeq)\n",
    "permctr2 = permute.permute(sboxctr2,permSeq)\n",
    "\n",
    "outputctr1 = xor(permctr1, key)\n",
    "outputctr2 = xor(permctr2, key)\n",
    "\n",
    "#xor with plain text\n",
    "\n",
    "cipherctr1 = xor(outputctr1, block1)\n",
    "cipherctr2 = xor(outputctr2, block2)\n",
    "\n",
    "print(f'CTR : Cipher 1 = {hex(cipherctr1)}, Cipher 2 = {hex(cipherctr2)}')\n",
    "\n"
   ]
  }
 ],
 "metadata": {
  "kernelspec": {
   "display_name": "Python 3",
   "language": "python",
   "name": "python3"
  },
  "language_info": {
   "codemirror_mode": {
    "name": "ipython",
    "version": 3
   },
   "file_extension": ".py",
   "mimetype": "text/x-python",
   "name": "python",
   "nbconvert_exporter": "python",
   "pygments_lexer": "ipython3",
   "version": "3.10.10"
  }
 },
 "nbformat": 4,
 "nbformat_minor": 2
}
