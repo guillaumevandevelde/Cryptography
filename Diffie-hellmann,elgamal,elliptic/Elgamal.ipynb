{
 "cells": [
  {
   "cell_type": "markdown",
   "metadata": {},
   "source": [
    "# Basic_DH Elgamal"
   ]
  },
  {
   "cell_type": "markdown",
   "metadata": {},
   "source": [
    "Perform Elgamal encryption with one of the standard groups (4096,3)\n",
    "• Two instances, public and private keys\n",
    "• Plain = 123456789\n",
    "• Perform encryption and decryption"
   ]
  },
  {
   "cell_type": "code",
   "execution_count": 1,
   "metadata": {},
   "outputs": [
    {
     "name": "stdout",
     "output_type": "stream",
     "text": [
      "Decrypted:  1234567890\n"
     ]
    }
   ],
   "source": [
    "from cryptocourse import basic_dh\n",
    "\n",
    "eg1 = basic_dh.ElGamal(4096,3)\n",
    "eg2 = basic_dh.ElGamal(4096,3)\n",
    "\n",
    "pub = eg2.gen_public_key()\n",
    "\n",
    "plain = 1234567890\n",
    "\n",
    "cipher = eg1.enc(plain, pub)\n",
    "decrypted = eg2.dec(cipher)\n",
    "\n",
    "print(\"Decrypted: \", decrypted)\n"
   ]
  }
 ],
 "metadata": {
  "kernelspec": {
   "display_name": "Python 3",
   "language": "python",
   "name": "python3"
  },
  "language_info": {
   "codemirror_mode": {
    "name": "ipython",
    "version": 3
   },
   "file_extension": ".py",
   "mimetype": "text/x-python",
   "name": "python",
   "nbconvert_exporter": "python",
   "pygments_lexer": "ipython3",
   "version": "3.12.0"
  }
 },
 "nbformat": 4,
 "nbformat_minor": 2
}
