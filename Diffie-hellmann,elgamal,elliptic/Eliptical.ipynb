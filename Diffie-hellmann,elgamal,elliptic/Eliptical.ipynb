{
 "cells": [
  {
   "cell_type": "markdown",
   "metadata": {},
   "source": [
    "# Elliptical Curve"
   ]
  },
  {
   "cell_type": "markdown",
   "metadata": {},
   "source": []
  },
  {
   "cell_type": "markdown",
   "metadata": {},
   "source": [
    "-  Take this elliptic curve: y^2 = x^3 − 4x\n",
    "-  List all the points of this curve in Z31\n",
    "-  Take as basis one of the points at x = 1, check the order when multiplying with any number, and list all\n",
    "the points\n",
    "-  Take as basis one of the points at x = 11, check the order when multiplying with any number, and list all\n",
    "the points\n",
    "- Plot these points, and find the sum of P+Q, with P(1,11) and Q(25,5); also calculate P+P and 2*P\n",
    " Calculate this with the Python module basic_ec"
   ]
  },
  {
   "cell_type": "code",
   "execution_count": 11,
   "metadata": {},
   "outputs": [
    {
     "name": "stdout",
     "output_type": "stream",
     "text": [
      "[Coord(x=0, y=0), Coord(x=1, y=11), Coord(x=1, y=20), Coord(x=2, y=0), Coord(x=7, y=6), Coord(x=7, y=25), Coord(x=11, y=4), Coord(x=11, y=27), Coord(x=16, y=8), Coord(x=16, y=23), Coord(x=17, y=3), Coord(x=17, y=28), Coord(x=18, y=5), Coord(x=18, y=26), Coord(x=19, y=5), Coord(x=19, y=26), Coord(x=21, y=1), Coord(x=21, y=30), Coord(x=22, y=12), Coord(x=22, y=19), Coord(x=23, y=4), Coord(x=23, y=27), Coord(x=25, y=5), Coord(x=25, y=26), Coord(x=26, y=9), Coord(x=26, y=22), Coord(x=27, y=13), Coord(x=27, y=18), Coord(x=28, y=4), Coord(x=28, y=27), Coord(x=29, y=0)] \n",
      "\n",
      "Coordinate at  x=1 (Coord(x=1, y=20), Coord(x=1, y=11))\n",
      "Point 10 Coord(x=7, y=25)\n",
      "Amount of points with the base point : 16\n",
      "Amount of points in the curve : 31\n",
      "Amount of points with the base point 2 : 2\n"
     ]
    }
   ],
   "source": [
    "from cryptocourse import basic_ec\n",
    "\n",
    "ec =  basic_ec.EC(-4,0,31)\n",
    "print(ec.elements(), \"\\n\")\n",
    "\n",
    "print(\"Coordinate at  x=1\", ec.at(1))\n",
    "\n",
    "#take the first point of 2\n",
    "g = ec.at(1)[0]\n",
    "\n",
    "#Multiplication of a point on the curve\n",
    "print(\"Point 10\", ec.mul(g,10))\n",
    "\n",
    "print(\"Amount of points with the base point :\",ec.order(g))\n",
    "print(\"Amount of points in the curve :\",len(ec.elements()))\n",
    "\n",
    "#Changing the base point\n",
    "\n",
    "g2 = ec.at(2)[0]\n",
    "print(\"Amount of points with the base point 2 :\",ec.order(g2))"
   ]
  },
  {
   "cell_type": "markdown",
   "metadata": {},
   "source": [
    "# Calculating with EC"
   ]
  },
  {
   "cell_type": "code",
   "execution_count": null,
   "metadata": {},
   "outputs": [],
   "source": [
    "from cryptocourse import basic_ec\n",
    "\n",
    "ec = basic_ec.StandardECS[\"secp256k1\"]\n",
    "g = basic_ec.StandardBasePoints[\"secp256k1\"]\n",
    "g = basic_ec.StandardBasePoints[\"secp256k1\"]\n",
    "g = basic_ec.StandardBasePoints[\"secp256k1\"]\n",
    "p = ec.mul(g,175000)\n",
    "p\n",
    "\n",
    "q = ec.mul(g,325000)\n",
    "q\n",
    "\n",
    "r1 = ec.add(p, q)\n",
    "r1\n",
    "r2 = ec.mul(g, 500000)\n",
    "r2\n",
    "r1 == r2\n"
   ]
  },
  {
   "cell_type": "markdown",
   "metadata": {},
   "source": [
    "# Elliptical Diffie Hellman"
   ]
  },
  {
   "cell_type": "code",
   "execution_count": 12,
   "metadata": {},
   "outputs": [
    {
     "name": "stdout",
     "output_type": "stream",
     "text": [
      " a == b True\n"
     ]
    }
   ],
   "source": [
    "from cryptocourse import basic_ec\n",
    "ec = basic_ec.StandardECS[\"secp256k1\"]\n",
    "g = basic_ec.StandardBasePoints[\"secp256k1\"]\n",
    "\n",
    "a = basic_ec.DiffieHellman(ec, g)\n",
    "b = basic_ec.DiffieHellman(ec, g)\n",
    "\n",
    "pub_a = a.gen_public_key()\n",
    "pub_b = b.gen_public_key()\n",
    "\n",
    "shared_secret_a = a.gen_shared_key(pub_b)\n",
    "shared_secret_b = b.gen_shared_key(pub_a)\n",
    "\n",
    "print(\" a == b\", shared_secret_a == shared_secret_b)"
   ]
  },
  {
   "cell_type": "markdown",
   "metadata": {},
   "source": [
    "# Elgamal Elliptical Curve encryption"
   ]
  },
  {
   "cell_type": "code",
   "execution_count": 13,
   "metadata": {},
   "outputs": [
    {
     "name": "stdout",
     "output_type": "stream",
     "text": [
      "D == P True\n"
     ]
    }
   ],
   "source": [
    "\n",
    "from cryptocourse import basic_ec\n",
    "ec = basic_ec.StandardECS[\"secp256k1\"]\n",
    "g = basic_ec.StandardBasePoints[\"secp256k1\"]\n",
    "receiver_eg = basic_ec.ElGamal(ec, g)\n",
    "receiver_eg.gen_private_key()\n",
    "receiver_public_key = receiver_eg.gen_public_key()\n",
    "sender_eg = basic_ec.ElGamal(ec, g)\n",
    "plain, _ = ec.at(2)    # the element to be encrypted should be a point on the elliptical curve\n",
    "plain\n",
    "cipher = sender_eg.enc(plain, receiver_public_key)\n",
    "decrypted = receiver_eg.dec(cipher)\n",
    "decrypted\n",
    "print(\"D == P\" ,decrypted == plain)\n"
   ]
  },
  {
   "cell_type": "markdown",
   "metadata": {},
   "source": [
    "# ECDSA "
   ]
  },
  {
   "cell_type": "code",
   "execution_count": 15,
   "metadata": {},
   "outputs": [
    {
     "name": "stdout",
     "output_type": "stream",
     "text": [
      "True\n",
      "False\n"
     ]
    }
   ],
   "source": [
    "from cryptocourse import basic_ec\n",
    "import random\n",
    "import hashlib\n",
    "\n",
    "ec = basic_ec.StandardECS[\"secp256k1\"]\n",
    "g = basic_ec.StandardBasePoints[\"secp256k1\"]\n",
    "\n",
    "d_sender = basic_ec.DSA(ec, g)\n",
    "public_sender = d_sender.gen_public_key()\n",
    "\n",
    "message = b\"hello\"\n",
    "\n",
    "m1 = hashlib.sha3_256()\n",
    "m1.update(message)\n",
    "hash_value = int.from_bytes(m1.digest())\n",
    "\n",
    "\n",
    "signature = d_sender.sign(hash_value,random.randint(1,1000000))   # signatures always contain a random element; signing the same message twice results in two different signatures\n",
    "d_receiver = basic_ec.DSA(ec, g)\n",
    "\n",
    "print( d_receiver.validate(hash_value,signature, public_sender))\n",
    "print(d_receiver.validate(hash_value+1,signature, public_sender))\n"
   ]
  },
  {
   "cell_type": "markdown",
   "metadata": {},
   "source": [
    "# Available curves\n"
   ]
  },
  {
   "cell_type": "markdown",
   "metadata": {},
   "source": [
    "```\n",
    "\"Anomalous\"\n",
    "\"P-192\"\n",
    "\"P-224\"\n",
    "\"P-256\"\n",
    "\"P-384\"\n",
    "\"secp256k1\"\n",
    "\"BN(2,254)\"\n",
    "\"brainpoolP256t1\"\n",
    "\"FRP256v1\"\n",
    "\"brainpoolP384t1\"\n",
    "```"
   ]
  }
 ],
 "metadata": {
  "kernelspec": {
   "display_name": "Python 3",
   "language": "python",
   "name": "python3"
  },
  "language_info": {
   "codemirror_mode": {
    "name": "ipython",
    "version": 3
   },
   "file_extension": ".py",
   "mimetype": "text/x-python",
   "name": "python",
   "nbconvert_exporter": "python",
   "pygments_lexer": "ipython3",
   "version": "3.12.0"
  }
 },
 "nbformat": 4,
 "nbformat_minor": 2
}
