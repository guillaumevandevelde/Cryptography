{
 "cells": [
  {
   "cell_type": "markdown",
   "metadata": {},
   "source": [
    "# Diffie Hellman"
   ]
  },
  {
   "cell_type": "markdown",
   "metadata": {},
   "source": [
    "- Users A and B use the Diffie-Hellman key exchange technique with a common prime q = 71 and a\n",
    "primitive root alpha = 7.\n",
    "- If user A has private key XA = 5, what is A’s public key YA?\n",
    "- If user B has private key XB = 12, what is B’s public key YB?\n",
    "- What is the shared secret key?"
   ]
  },
  {
   "cell_type": "code",
   "execution_count": 4,
   "metadata": {},
   "outputs": [
    {
     "name": "stdout",
     "output_type": "stream",
     "text": [
      "private key a =  51\n",
      "private key b =  4\n",
      "Shared secret key a =  30\n"
     ]
    }
   ],
   "source": [
    "q = 71\n",
    "a = 7\n",
    "\n",
    "Xa = 5\n",
    "Xb = 12\n",
    "\n",
    "Ya =  pow(a, Xa, q)\n",
    "Yb =  pow(a, Xb, q)\n",
    "\n",
    "print(\"private key a = \", Ya)\n",
    "print(\"private key b = \", Yb)\n",
    "\n",
    "print(\"Shared secret key a = \", pow(Yb, Xa, q))"
   ]
  },
  {
   "cell_type": "markdown",
   "metadata": {},
   "source": [
    "# Check Basic_DH"
   ]
  },
  {
   "cell_type": "markdown",
   "metadata": {},
   "source": [
    "- We use the Python module basic_dh.py\n",
    "- Create three parties a, b, c\n",
    "- Let each of these parties start a Diffie-Hellman key exchange using the Diffie-Hellman group 4096, sequence 03 as defined in\n",
    "basic_dh.py\n",
    "- Check whether a and b , a and c, b and c succeed in generating a shared secret\n",
    "- Check whether the shared secrets between ab, ac and bc are different\n",
    "- Try with some other Diffie-Hellman groups, e.g.\n",
    "  - 512, sequence numbers 1 to 9\n",
    "  - 768, sequence numbers 1 to 6\n",
    "  - 1024, sequence numbers 1 to 27\n",
    "  - 1536, sequence numbers 1 to 12\n",
    "  - 2048, sequence numbers 1 to 16\n",
    "  - 3072, sequence numbers 1 to 4\n",
    "  - 4096, sequence numbers 1 to 7\n",
    "  - 6144, sequence numbers 1 to 5\n",
    "  - 8192, sequence numbers 1 to 5\n",
    "- Check that generating a shared secret with keys belonging to different groups does not work"
   ]
  },
  {
   "cell_type": "code",
   "execution_count": 7,
   "metadata": {},
   "outputs": [
    {
     "name": "stdout",
     "output_type": "stream",
     "text": [
      "a's private key =  579931192075709260579709196082201572376018186034662487558230889797371314825593458866964645023054381413455130956021961672436479546034408293992762314740114156127907731632407026285989857545043375528198879797588039358906843602904864044718231300210096493422573380424557866196578932964502044366715752914703014663843331243228848458212322212196164327416344498698904651028120258929166069144259182963620636170915828045406788629326697753615336386240938414034780113612552064692211515552074057867073885047959819072413845182371354802774034747324636053677179358887302737918661949001401813806963405533294453826805962623301913107658094223205739682428791064279540522829204482871980790644021274502471999097251016675304196815507694277925885642564693272328596660050177664708312186744684392515157223429960720419729905812558171604256776274294529252060492190063510854240672869609102676892555860461463286987272588330174118573060383478158158774617847327498718608912563443100308926948665933624295703265809362673230043731664081865658496834410038881050374130483940260760012830998766884966351980183486939089050813579517441567433329944435776390914624585944472695710874441414661625992437863797311069624896344205547935407931991136615629410626596677461249299128421981\n"
     ]
    }
   ],
   "source": [
    "from cryptocourse import basic_dh\n",
    "\n",
    "a = basic_dh.DiffieHellman(4096,3)\n",
    "b = basic_dh.DiffieHellman(4096,3)\n",
    "c = basic_dh.DiffieHellman(4096,3)\n",
    "d = basic_dh.DiffieHellman(4096,3)\n",
    "\n",
    "\n",
    "print(\"a's private key = \", a.get_private_key())\n",
    "\n",
    "publica = a.gen_public_key()\n",
    "publicb = b.gen_public_key()\n",
    "publicc = c.gen_public_key()\n",
    "\n",
    "sharedsecretab = a.gen_shared_key(publicb)\n",
    "sharedsecretba = a.gen_shared_key(publicc)\n"
   ]
  },
  {
   "cell_type": "markdown",
   "metadata": {},
   "source": [
    "# Basic_DH Encrypt (xor)"
   ]
  },
  {
   "cell_type": "markdown",
   "metadata": {},
   "source": [
    "- Two parties a and b perform a Diffie Hellman key exchange (take any group)\n",
    "  \n",
    "- A uses the portion of the shared secret with the same length as the plaintext\n",
    "FEDCBAFEDCBA12345678901234567890ABCDEFABCDEF and uses XOR to symmetrically encrypt\n",
    "\n",
    "- B uses the same portion of the shared secret and uses XOR to symmetrically decrypt the\n",
    "ciphertext\n",
    "\n"
   ]
  },
  {
   "cell_type": "code",
   "execution_count": 14,
   "metadata": {},
   "outputs": [
    {
     "name": "stdout",
     "output_type": "stream",
     "text": [
      "22\n",
      "32\n",
      "Plain : b'\\xfe\\xdc\\xba\\xfe\\xdc\\xba\\x124Vx\\x90\\x124Vx\\x90\\xab\\xcd\\xef\\xab\\xcd\\xef'\n",
      "Decrypted : b'\\xfe\\xdc\\xba\\xfe\\xdc\\xba\\x124Vx\\x90\\x124Vx\\x90\\xab\\xcd\\xef\\xab\\xcd\\xef'\n",
      "Decrypted == Plain : True\n"
     ]
    }
   ],
   "source": [
    "from cryptocourse import basic_dh\n",
    "from cryptocourse import basic_crypto\n",
    "\n",
    "a = basic_dh.DiffieHellman(4096,3)\n",
    "b = basic_dh.DiffieHellman(4096,3)\n",
    "\n",
    "\n",
    "plain = bytes.fromhex('FEDCBAFEDCBA12345678901234567890ABCDEFABCDEF')\n",
    "\n",
    "\n",
    "\n",
    "publica = a.gen_public_key()\n",
    "publicb = b.gen_public_key()\n",
    "\n",
    "sharedsecretab = a.gen_shared_key(publicb)\n",
    "sharedsecretba = b.gen_shared_key(publica)\n",
    "\n",
    "print(len(plain))\n",
    "print(len(sharedsecretab))\n",
    "\n",
    "part_of_stream = sharedsecretab[0:len(plain)]\n",
    "\n",
    "cipher = basic_crypto.byte_xor(plain, part_of_stream)\n",
    "\n",
    "part_of_streamb = sharedsecretba[0:len(cipher)]\n",
    "decrypted = basic_crypto.byte_xor(cipher, part_of_streamb)\n",
    "\n",
    "print(\"Plain :\", plain)\n",
    "print(\"Decrypted :\",decrypted)\n",
    "print (\"Decrypted == Plain :\", plain == decrypted)\n"
   ]
  },
  {
   "cell_type": "markdown",
   "metadata": {},
   "source": [
    "# Basic_Dh encrypt (variant) -AES -> take a file as data input - HKDF"
   ]
  },
  {
   "cell_type": "markdown",
   "metadata": {},
   "source": [
    "- In a variant of this exercise, use the hkdf function to generate suitable key material (256 bytes\n",
    "key, 128 bytes IV, salt = b”secretpassword”, hash function: sha512) from the Diffie Hellman\n",
    "shared secret and use this key for a symmetric encryption using AES-CBC. Take as plain some file\n",
    "on your computer (max 2.5 Mbyte)."
   ]
  },
  {
   "cell_type": "code",
   "execution_count": 27,
   "metadata": {},
   "outputs": [
    {
     "name": "stdout",
     "output_type": "stream",
     "text": [
      "Length of key : 48\n",
      "Length data :  553\n",
      "Length ciph :  560\n",
      "decrypted == data : True\n"
     ]
    }
   ],
   "source": [
    "from cryptocourse import basic_dh\n",
    "from cryptocourse import hkdf\n",
    "from cryptocourse import aesModeOfOperation\n",
    "import hashlib\n",
    "\n",
    "a = basic_dh.DiffieHellman()\n",
    "b = basic_dh.DiffieHellman()\n",
    "\n",
    "publica = a.gen_public_key()\n",
    "publicb = b.gen_public_key()\n",
    "\n",
    "sharedsecretab = a.gen_shared_key(publicb)\n",
    "sharedsecretba = b.gen_shared_key(publica)\n",
    "\n",
    "kdf = hkdf.Hkdf(sharedsecretab, b\"asecretpassword\", hashlib.sha512)\n",
    "key = kdf.expand(b\"context\", 48)\n",
    "\n",
    "print(\"Length of key :\",len(key))\n",
    "\n",
    "masterkey = key[0:32]\n",
    "iv = key[32:]\n",
    "\n",
    "with open('Test.txt', 'rb') as f:\n",
    "    data = f.read()\n",
    "\n",
    "print(\"Length data : \",len(data))\n",
    "\n",
    "moo = aesModeOfOperation.AESModeOfOperation()\n",
    "mode, origin_len, ciph = moo.encrypt(data, moo.modeOfOperation[\"CBC\"],masterkey,moo.aes.keySize[\"SIZE_256\"], iv)\n",
    "\n",
    "print(\"Length ciph : \",len(ciph))\n",
    "\n",
    "\n",
    "decr = moo.decrypt(ciph, origin_len, mode, masterkey, moo.aes.keySize[\"SIZE_256\"], iv)\n",
    "print(\"decrypted == data :\", decr == data)\n",
    "\n"
   ]
  },
  {
   "cell_type": "markdown",
   "metadata": {},
   "source": [
    "# Basic_Dh Adversary - Stolen private key"
   ]
  },
  {
   "cell_type": "markdown",
   "metadata": {},
   "source": [
    "- Two parties a and b perform a Diffie Hellman key exchange (take any group)\n",
    "- Suppose you are an adversary and you had captured a’s secret key (use the methods\n",
    "get_private_key() and set_private_key() for this); you also captured b’s public key by\n",
    "eavesdropping the line; calculate the shared secret yourself."
   ]
  },
  {
   "cell_type": "code",
   "execution_count": 1,
   "metadata": {},
   "outputs": [
    {
     "name": "stdout",
     "output_type": "stream",
     "text": [
      "Secret == sharedsecret True\n"
     ]
    }
   ],
   "source": [
    "from cryptocourse import basic_dh\n",
    "from cryptocourse import hkdf\n",
    "from cryptocourse import aesModeOfOperation\n",
    "import hashlib\n",
    "\n",
    "a = basic_dh.DiffieHellman()\n",
    "b = basic_dh.DiffieHellman()\n",
    "\n",
    "publica = a.gen_public_key()\n",
    "publicb = b.gen_public_key()\n",
    "\n",
    "sharedsecretab = a.gen_shared_key(publicb)\n",
    "sharedsecretba = b.gen_shared_key(publica)\n",
    "\n",
    "stolen_private_key = a.get_private_key()\n",
    "c = basic_dh.DiffieHellman()\n",
    "c.set_private_key(stolen_private_key)\n",
    "secret = c.gen_shared_key(publicb)\n",
    "\n",
    "print(\"Secret == sharedsecret\", secret == sharedsecretab)"
   ]
  },
  {
   "cell_type": "markdown",
   "metadata": {},
   "source": [
    "# Basic_dh without a standard group"
   ]
  },
  {
   "cell_type": "markdown",
   "metadata": {},
   "source": [
    "- Perform a standard Diffie Hellmann key exchange with length 512, but without using the standard\n",
    "groups\n",
    "- Make sure to create two Diffie Hellman instances sharing the initial parameters (prime and\n",
    "generator)\n",
    "- Generate the shared secret\n",
    "- Also try it with length 2048 and see what happens\n"
   ]
  },
  {
   "cell_type": "code",
   "execution_count": 2,
   "metadata": {},
   "outputs": [
    {
     "name": "stdout",
     "output_type": "stream",
     "text": [
      "determining non standard group parameters (takes some time)\n",
      "sharedab == sharedba True\n"
     ]
    }
   ],
   "source": [
    "from cryptocourse import basic_dh\n",
    "from cryptocourse import hkdf\n",
    "from cryptocourse import aesModeOfOperation\n",
    "import hashlib\n",
    "\n",
    "a = basic_dh.DiffieHellman(512,0)\n",
    "b = basic_dh.DiffieHellman()\n",
    "b.copy(a)\n",
    "\n",
    "publica = a.gen_public_key()\n",
    "publicb = b.gen_public_key()\n",
    "\n",
    "sharedsecretab = a.gen_shared_key(publicb)\n",
    "sharedsecretba = b.gen_shared_key(publica)\n",
    "\n",
    "print(\"sharedab == sharedba\", sharedsecretab == sharedsecretba)"
   ]
  }
 ],
 "metadata": {
  "kernelspec": {
   "display_name": "Python 3",
   "language": "python",
   "name": "python3"
  },
  "language_info": {
   "codemirror_mode": {
    "name": "ipython",
    "version": 3
   },
   "file_extension": ".py",
   "mimetype": "text/x-python",
   "name": "python",
   "nbconvert_exporter": "python",
   "pygments_lexer": "ipython3",
   "version": "3.12.0"
  }
 },
 "nbformat": 4,
 "nbformat_minor": 2
}
