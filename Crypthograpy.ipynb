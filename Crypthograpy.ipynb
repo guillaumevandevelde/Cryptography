{
 "cells": [
  {
   "cell_type": "markdown",
   "metadata": {},
   "source": [
    "Verschillende aangeleerde encryptie & decryptie methoden\n",
    "\n",
    "Github : https://github.com/Johangalle/Cryptography/\n",
    "\n"
   ]
  },
  {
   "cell_type": "code",
   "execution_count": 2,
   "metadata": {},
   "outputs": [
    {
     "ename": "SyntaxError",
     "evalue": "invalid syntax (1502412539.py, line 1)",
     "output_type": "error",
     "traceback": [
      "\u001b[1;36m  Cell \u001b[1;32mIn[2], line 1\u001b[1;36m\u001b[0m\n\u001b[1;33m    pip install cryptocourse\u001b[0m\n\u001b[1;37m        ^\u001b[0m\n\u001b[1;31mSyntaxError\u001b[0m\u001b[1;31m:\u001b[0m invalid syntax\n"
     ]
    }
   ],
   "source": [
    "pip install cryptocourse\n",
    "pip install argon2_cffi\n",
    "pip install passlib"
   ]
  },
  {
   "cell_type": "markdown",
   "metadata": {},
   "source": [
    "RSA Algorithm 2048"
   ]
  },
  {
   "cell_type": "code",
   "execution_count": 5,
   "metadata": {},
   "outputs": [
    {
     "name": "stdout",
     "output_type": "stream",
     "text": [
      "4095\n",
      "0b10000000000000001\n",
      "344449560248387514603107679134798079060123120815954724151350067841054766545825978765286717518828662147279857529536540955165785194066924875390558986159784583404355137908399916564780714608725544815499487181050912567054002876012338804411473166154481244302246448199509999668230893953358669086568998251078368065307866101978629282783458429641290911811240746942991503095774015509163527655607488605342376338391088489553422312208602901399126373662661404888907253675410525004878587715687965847483702225834302516045517545655216142309061793961463789590644248337822385407442312856322858747028056651331228242697961528040016137732100857875950959793975577852134980440431009618741862549019060495994370879104673083457121883653140796157411827231803792380605778999130533349953998737379799880951219398594563204888843043726809974212141894035501689141481157820098447043467048405795461909949559068289295926365438872730033596582042051563093821473241754406994422864779267342630777370475574186059320651677696264879999341834184848048375831020802173394929710229331336838100264239963142792991759054815434027548384036837361255033079706667329944215003956867717098835789635269338247048663604568614611997772142258525369161232029430610056273248845580561345783237385753\n",
      "1234567890\n",
      "306261516891090131271078117821711396260850995960764087891426466408044943254764656098998455803293324869937078257642093088890272026691090225914073484807844528387590282267655687875254142579897839198658669773622386689095277779686098445103602416983870578683308843992566832153096866391653123588985218508992883783315884830469436235121677281651182267994442407905461558967182720434426800489100275778155181546608574553637571595763086051362408647956443171128680432784313278393967046503937762816407174824239875049101519686019254746037090701242252712880833068713561279434276727231766491849467378473694471169701706794164905393841931975333762697602152281034770150549345321069787302575901880098745975209795925397935818444447360278650841364189534380594938473705601086885462383170007934224387833601860521036375155250478109594411038469156245324483570439379419629969606716827363414111076489999513700451573438613235183515048409130692856231258171518767247226364752015940215001566885437057807714218335122112885364865184455312862396211365718216329995086548304928620189701946571278743052624730112757157671704579005610784957571472709485112697424690086281449472166427386006992208463716093852328993127007011848693331540989665370373650725265449800541310118124683\n"
     ]
    }
   ],
   "source": [
    "p = primes.findAPrime(pow(2,2047), pow(2,2048))\n",
    "q = primes.findAPrime(pow(2,2047), pow(2,2048))\n",
    "n = p * q\n",
    "print(f'Bit length n : {n.bit_length()}')\n",
    "\n",
    "e = 65537\n",
    "print(bin(e))\n",
    "\n",
    "totient_n = (p-1)*(q-1)\n",
    "d = euclidean.mulinv(e, totient_n)\n",
    "print(f'Multiplicatieve inverse : {d}')\n",
    "\n",
    "plain = 1234567890\n",
    "cipher = pow(plain, e, n)\n",
    "decrypted = pow(cipher, d, n)\n",
    "print(f'Decryption : {decrypted}')\n",
    "print(f'cipher : {cipher}')"
   ]
  },
  {
   "cell_type": "code",
   "execution_count": 11,
   "metadata": {},
   "outputs": [
    {
     "name": "stdout",
     "output_type": "stream",
     "text": [
      "Multiplicatieve inverse : 23\n",
      "Decryption : 88\n",
      "cipher : 11\n"
     ]
    }
   ],
   "source": [
    "#Simple example in too small non random bit lengths\n",
    "\n",
    "\n",
    "e = 7\n",
    "n = 187\n",
    "d = 23\n",
    "print(f'Multiplicatieve inverse : {d}')\n",
    "\n",
    "plain = 88\n",
    "cipher = pow(plain, e, n)\n",
    "decrypted = pow(cipher, d, n)\n",
    "print(f'Decryption : {decrypted}')\n",
    "print(f'cipher : {cipher}')"
   ]
  },
  {
   "cell_type": "markdown",
   "metadata": {},
   "source": [
    "Diffie Hellman"
   ]
  },
  {
   "cell_type": "code",
   "execution_count": 2,
   "metadata": {},
   "outputs": [
    {
     "name": "stdout",
     "output_type": "stream",
     "text": [
      "40\n",
      "248\n",
      "160\n",
      "160\n"
     ]
    }
   ],
   "source": [
    "alpha = 3\n",
    "q = 353\n",
    "\n",
    "XA = 97\n",
    "YA = pow(alpha, XA, q)\n",
    "print(YA)\n",
    "\n",
    "XB = 233\n",
    "YB = pow(alpha, XB, q)\n",
    "print(YB)\n",
    "\n",
    "shared_secret_A = pow(YB, XA, q)\n",
    "shared_secret_B = pow(YA, XB, q)\n",
    "\n",
    "print(shared_secret_A)\n",
    "print(shared_secret_B)"
   ]
  },
  {
   "cell_type": "markdown",
   "metadata": {},
   "source": [
    "Elliptical Curves\n",
    "\n",
    "y² = x³ + ax +b"
   ]
  },
  {
   "cell_type": "code",
   "execution_count": 3,
   "metadata": {},
   "outputs": [
    {
     "name": "stdout",
     "output_type": "stream",
     "text": [
      "3\n",
      "1.7320508075688772\n",
      "[7, 16]\n"
     ]
    }
   ],
   "source": [
    "\n",
    "x = 9\n",
    "a = 1\n",
    "b = 1\n",
    "n = 23\n",
    "\n",
    "y = (pow(x, 3) + a * x + b) % n\n",
    "print(y)\n",
    "print(math.sqrt(y)) \n",
    "\n",
    "#geen rationale oplossing => welke getal tot de 2de macht is 3 mod 23 => 7 & 16\n",
    "\n",
    "#hoe kom ik nu aan 7 of 16? alle getallen in het veld 23 tot de 2de macht doen en kijken welke 3 mod 23 is\n",
    "quadratic_residues = []\n",
    "\n",
    "for x in range(n):\n",
    "    y = (x ** 2) % n\n",
    "    if y == 3:\n",
    "        quadratic_residues.append(x)\n",
    "\n",
    "print(quadratic_residues)\n"
   ]
  },
  {
   "cell_type": "markdown",
   "metadata": {},
   "source": [
    "Eenvoudige manier om de getallen te vinden die in een bepaald galois veld tot 3 leiden wanneer ze tot de tweede macht verheven worden"
   ]
  },
  {
   "cell_type": "code",
   "execution_count": 6,
   "metadata": {},
   "outputs": [
    {
     "data": {
      "text/plain": [
       "(16, 7)"
      ]
     },
     "execution_count": 6,
     "metadata": {},
     "output_type": "execute_result"
    }
   ],
   "source": [
    "basic_ec.sqrt(3,23)"
   ]
  },
  {
   "cell_type": "code",
   "execution_count": 10,
   "metadata": {},
   "outputs": [
    {
     "name": "stdout",
     "output_type": "stream",
     "text": [
      "Public key: Coord(x=16, y=5)\n",
      "P2 = Coord(x=20, y=20)\n",
      "P3 = Coord(x=14, y=14)\n",
      "P4 = Coord(x=19, y=20)\n",
      "P5 = Coord(x=13, y=10)\n"
     ]
    }
   ],
   "source": [
    "ElipticalCurve = basic_ec.EC(9,17,23)\n",
    "p = basic_ec.Coord(16,5)\n",
    "\n",
    "\n",
    "print(f\"Public key: {p}\")\n",
    "\n",
    "print(f\"P2 = {ElipticalCurve.mul(p, 2)}\")\n",
    "print(f\"P3 = {ElipticalCurve.mul(p, 3)}\")\n",
    "print(f\"P4 = {ElipticalCurve.mul(p, 4)}\")\n",
    "print(f\"P5 = {ElipticalCurve.mul(p, 5)}\")\n"
   ]
  },
  {
   "cell_type": "code",
   "execution_count": 13,
   "metadata": {},
   "outputs": [
    {
     "name": "stdout",
     "output_type": "stream",
     "text": [
      "Public key user A: Coord(x=5, y=7)\n",
      "Public key user B: 7\n",
      "Shared secret A: Coord(x=1, y=21)\n",
      "Shared secret B: Coord(x=1, y=21)\n"
     ]
    }
   ],
   "source": [
    "#ECC Diffie Hellman Key Exchange\n",
    "\n",
    "a = 9\n",
    "b = 17\n",
    "ModuloN = 23\n",
    "\n",
    "ElipticalCurve = basic_ec.EC(a,b,ModuloN)\n",
    "G = basic_ec.Coord(16,5)\n",
    "\n",
    "PrivateKeyA = 11\n",
    "PublicKeyA = ElipticalCurve.mul(G, PrivateKeyA)\n",
    "\n",
    "print(f\"Public key user A: {PublicKeyA}\")\n",
    "\n",
    "PrivateKeyB = 7\n",
    "PublicKeyB = ElipticalCurve.mul(G, PrivateKeyB)\n",
    "print(f\"Public key user B: {PrivateKeyB}\")\n",
    "\n",
    "shared_secret_A = ElipticalCurve.mul(PublicKeyB, PrivateKeyA)\n",
    "shared_secret_B = ElipticalCurve.mul(PublicKeyA, PrivateKeyB)\n",
    "\n",
    "print(f\"Shared secret A: {shared_secret_A}\")\n",
    "print(f\"Shared secret B: {shared_secret_B}\")"
   ]
  },
  {
   "cell_type": "markdown",
   "metadata": {},
   "source": [
    "Hashes"
   ]
  },
  {
   "cell_type": "code",
   "execution_count": 9,
   "metadata": {},
   "outputs": [
    {
     "name": "stdout",
     "output_type": "stream",
     "text": [
      "{'md5', 'sha1', 'sha256', 'sha3_256', 'sha512', 'shake_256', 'sha3_512', 'sha3_384', 'sha384', 'blake2b', 'shake_128', 'sha3_224', 'blake2s', 'sha224'}\n"
     ]
    },
    {
     "data": {
      "text/plain": [
       "'0b8a44ac991e2b263e8623cfbeefc1cffe8c1c0de57b3e2bf1673b4f35e660e89abd18afb7ac93cf215eba36dd1af67698d6c9ca3fdaaf734ffc4bd5a8e34627'"
      ]
     },
     "execution_count": 9,
     "metadata": {},
     "output_type": "execute_result"
    }
   ],
   "source": [
    "print(f'{hashlib.algorithms_guaranteed}')\n",
    "\n",
    "m1 = hashlib.sha3_512()\n",
    "m1.update(b\"Hello\")\n",
    "m1.hexdigest()"
   ]
  },
  {
   "cell_type": "code",
   "execution_count": 1,
   "metadata": {},
   "outputs": [],
   "source": [
    "import argon2\n",
    "import passlib\n",
    "\n",
    "argon2Hash = argon2.PasswordHasher(time_cost=16, memory_cost=2**14, parallelism=2, hash_len=32, salt_len=16)\n",
    "hash = argon2Hash.hash(\"Hello\")"
   ]
  },
  {
   "cell_type": "markdown",
   "metadata": {},
   "source": [
    "MAC in python Hmac"
   ]
  },
  {
   "cell_type": "code",
   "execution_count": 7,
   "metadata": {},
   "outputs": [
    {
     "data": {
      "text/plain": [
       "'9e89bd17f56327cea25a0aa85bec6a33e563321432f23e48a86a7a12e8d3c3b8e4a4f5e659833cf0e6f74de0e6f322f9614357d3803058a423c5bca87a30ab11'"
      ]
     },
     "execution_count": 7,
     "metadata": {},
     "output_type": "execute_result"
    }
   ],
   "source": [
    "import hmac\n",
    "import hashlib\n",
    "\n",
    "h = hmac.new(b\"secret\", b\"Hello\", hashlib.sha3_512)\n",
    "h.hexdigest()"
   ]
  }
 ],
 "metadata": {
  "kernelspec": {
   "display_name": "Python 3",
   "language": "python",
   "name": "python3"
  },
  "language_info": {
   "codemirror_mode": {
    "name": "ipython",
    "version": 3
   },
   "file_extension": ".py",
   "mimetype": "text/x-python",
   "name": "python",
   "nbconvert_exporter": "python",
   "pygments_lexer": "ipython3",
   "version": "3.12.0"
  },
  "orig_nbformat": 4
 },
 "nbformat": 4,
 "nbformat_minor": 2
}
