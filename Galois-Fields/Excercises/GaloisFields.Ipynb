{
 "cells": [
  {
   "cell_type": "markdown",
   "metadata": {},
   "source": [
    "# Calculate a multiplication in GF(2³)\n",
    "\n",
    "- GF(2³) = 0,7 => binary 000 => 111 => veelterm van de 2e macht => priem veelterm van de 3e macht\n",
    "- Priem veelterm (X³+x+1) => altijd gegeven\n",
    "\n",
    "- converteer nummer naar veelterm\n",
    "  -  VB : 3 => 011 => (0*x²+1*x+1) = (x+1)\n",
    "  -  3 * 6 = (011) * (110) = (x+1) * (x²+x) = x³ + x² + x² + x = x³ + x mod(x³ + x + 1) = 1"
   ]
  }
 ],
 "metadata": {
  "language_info": {
   "name": "python"
  }
 },
 "nbformat": 4,
 "nbformat_minor": 2
}
