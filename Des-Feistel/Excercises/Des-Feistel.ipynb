{
 "cells": [
  {
   "cell_type": "markdown",
   "metadata": {},
   "source": [
    "# Des & Feistel exercises"
   ]
  },
  {
   "cell_type": "markdown",
   "metadata": {},
   "source": [
    "# Question - none\n",
    "\n",
    "- Consider a Feistel cipher composed of sixteen rounds with a block length of 128 bits and a key length of 128 bits. \n",
    "Suppose that, for a given k, the key scheduling algorithm determines values for the first eight round keys, k1, k2,… k8, and then sets \n",
    "\n",
    "- k9 = k8,k10 = k7,k11 = k6,c,k16 = k1 \n",
    "\n",
    "- Suppose you have a ciphertext c. The internal details of the device are not known to you and you cannot break open the device. You have access to the encryption system (lunch break attack). \n",
    "\n",
    "\n",
    "# Answer\n",
    "\n",
    "- Feistel => Encryption == Decryption but the key schedule is in reverse order\n",
    "- In this case the reverse order is equal to the key schedule\n",
    "- So, Encryption is completely equal to Decryption\n",
    "- Pass the cipher to the encryption and it also decrypts"
   ]
  },
  {
   "cell_type": "markdown",
   "metadata": {},
   "source": [
    "# Question - linear block cipher - none\n",
    "\n",
    "- For any block cipher, the fact that it is a nonlinear function is crucial to its security. To see this, suppose that we have a linear block cipher EL that encrypts 128-bit blocks of plaintext into 128-bit blocks of ciphertext. Let EL (k, m) denote the encryption of a 128-bit message m under a key k (the actual bit length of k is irrelevant). Thus, \n",
    "\n",
    "- EL(k, [m1 ⊕ m2]) = EL(k, m1) ⊕ EL(k, m2) for all 128-bit patterns m1, m2 \n",
    "\n",
    "- Describe how, with 128 chosen ciphertexts, an adversary can decrypt any ciphertext without knowledge of the secret key k. (A “chosen ciphertext” means that an adversary has the ability to choose a ciphertext and then obtain its decryption. Here, you have 128 plaintext/ciphertext pairs to work with and you have the ability to chose the value of the ciphertexts.) \n",
    "\n",
    "# Answer\n",
    "\n",
    "- Example bit pattern '01001011'\n",
    "- Can be written as = 0100 0000 XOR 0000 1000 XOR 0000 00010 XOR 0000 0001 = C2 XOR C5 XOR C7 XOR C8\n",
    "- Linear  = EL( k, D2 XOR D5 XOR D7 XOR D8)  => D2 XOR D5 XOR D7 XOR D8 = M\n"
   ]
  },
  {
   "cell_type": "markdown",
   "metadata": {},
   "source": [
    "# Question - DES Security level- THEORY\n",
    "\n",
    "- Calculate Security level of DES, how many trials need to be performed to break DES?\n",
    "\n",
    "# Answer\n",
    "\n",
    "- Brute force 2^56 keys\n",
    "- For each key we encrypt P and find Ci\n",
    "- Assume some (p,c) are known\n",
    "- When the known results are compared to the calculated results, we find KI\n",
    "- Maximum tries 2^56, on average the result will be found at half the tries 2^55"
   ]
  },
  {
   "cell_type": "markdown",
   "metadata": {},
   "source": [
    "# Question - Double DES Security level\n",
    "\n",
    "- Two DES systems chained together, with different keys\n",
    "- Apparent security level is 2^112\n",
    "- Assume one known (P,C) pair => perform meet-in-middle attack\n",
    "\n",
    "![Alt text](image.png)\n",
    "\n",
    "\n",
    "# Answer\n",
    "\n",
    "- Double des consists of two DES operations, we want to find k1,k2\n",
    "- We can break DES with table of 2^56\n",
    "- Given a (p,c) pair X\n",
    "- X is the result of encrypting p with K1, X is also the result of decrypting with k2\n",
    "- Create a 2^56 table with Xi results from encrypting P with K1i\n",
    "- Create a second 2^56 table with Xj resulting from decrypting C with possible K2j\n",
    "  \n",
    "- At least one Xi row equals a Xj row, implies you have found two keys K1i & K2j\n",
    "- In practice, several rows will be equal \n",
    "- Security level == 2^57 ..."
   ]
  },
  {
   "cell_type": "markdown",
   "metadata": {},
   "source": []
  }
 ],
 "metadata": {
  "language_info": {
   "name": "python"
  }
 },
 "nbformat": 4,
 "nbformat_minor": 2
}
