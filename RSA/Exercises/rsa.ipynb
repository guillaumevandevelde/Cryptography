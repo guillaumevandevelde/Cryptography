{
 "cells": [
  {
   "cell_type": "markdown",
   "metadata": {},
   "source": [
    "# RSA "
   ]
  },
  {
   "cell_type": "markdown",
   "metadata": {},
   "source": [
    "- Let p=83, q=101, n=pq, e= 3. Is(n,e) a valid RSA public key? If so, compute the corresponding private RSA\n",
    "key d. If not, why not?\n",
    "\n",
    "- Perform encryption and decryption of M1 = 1234\n",
    "\n",
    "- Perform encryption and decryption of M2 = 12345"
   ]
  },
  {
   "cell_type": "code",
   "execution_count": 10,
   "metadata": {},
   "outputs": [
    {
     "name": "stdout",
     "output_type": "stream",
     "text": [
      "n =  8383\n",
      "totient =  8200\n",
      "1\n",
      "C1 =  6305\n",
      "C2 =  5703\n",
      "D1 =  1234\n",
      "D2 =  3962\n"
     ]
    }
   ],
   "source": [
    "from cryptocourse import euclidean\n",
    "from cryptocourse import primes\n",
    "\n",
    "p = 83\n",
    "q = 101\n",
    "n = p * q\n",
    "print(\"n = \", n)\n",
    "e = 3\n",
    "M1 = 1234\n",
    "M2 = 12345\n",
    "\n",
    "totient = (p - 1) * (q - 1)\n",
    "print(\"totient = \", totient)\n",
    "\n",
    "# Check that e is coprime to totient (gcd(e, totient) = 1) ! \n",
    "print(euclidean.gcd(e,totient))\n",
    "\n",
    "d = euclidean.mulinv(e, totient)\n",
    "\n",
    "C1 = pow(M1, e, n)\n",
    "C2 = pow(M2, e, n)\n",
    "\n",
    "print(\"C1 = \", C1)\n",
    "print(\"C2 = \", C2)\n",
    "\n",
    "D1 = pow(C1, d, n)\n",
    "D2 = pow(C2, d, n)\n",
    "\n",
    "print(\"D1 = \", D1)\n",
    "## 3962 = decryption did not work, M2 > n\n",
    "print(\"D2 = \", D2)\n",
    "\n"
   ]
  },
  {
   "cell_type": "code",
   "execution_count": null,
   "metadata": {},
   "outputs": [],
   "source": []
  },
  {
   "cell_type": "markdown",
   "metadata": {},
   "source": [
    "- Let p=79, q=89, n=pq, e= 3. Is (n,e) a valid RSA public key? If so, compute the corresponding private RSA\n",
    "key d. If not, why not?\n",
    "\n",
    "- Perform encryption and decryption of M1 = 1234\n",
    "- Perform encryption and decryption of M2 = 12345"
   ]
  },
  {
   "cell_type": "code",
   "execution_count": 12,
   "metadata": {},
   "outputs": [
    {
     "name": "stdout",
     "output_type": "stream",
     "text": [
      "n =  7031\n",
      "totient =  6864\n",
      "3\n"
     ]
    },
    {
     "ename": "ValueError",
     "evalue": "multiplicative inverse is not possible if values are not relatively prime ",
     "output_type": "error",
     "traceback": [
      "\u001b[1;31m---------------------------------------------------------------------------\u001b[0m",
      "\u001b[1;31mValueError\u001b[0m                                Traceback (most recent call last)",
      "\u001b[1;32md:\\Koofr\\School\\Cybersecurity\\Cryptography\\Python\\RSA\\Exercises\\rsa.ipynb Cell 6\u001b[0m line \u001b[0;36m1\n\u001b[0;32m     <a href='vscode-notebook-cell:/d%3A/Koofr/School/Cybersecurity/Cryptography/Python/RSA/Exercises/rsa.ipynb#W5sZmlsZQ%3D%3D?line=14'>15</a>\u001b[0m \u001b[39m# Check that e is coprime to totient (gcd(e, totient) = 1) ! \u001b[39;00m\n\u001b[0;32m     <a href='vscode-notebook-cell:/d%3A/Koofr/School/Cybersecurity/Cryptography/Python/RSA/Exercises/rsa.ipynb#W5sZmlsZQ%3D%3D?line=15'>16</a>\u001b[0m \u001b[39mprint\u001b[39m(euclidean\u001b[39m.\u001b[39mgcd(e,totient))\n\u001b[1;32m---> <a href='vscode-notebook-cell:/d%3A/Koofr/School/Cybersecurity/Cryptography/Python/RSA/Exercises/rsa.ipynb#W5sZmlsZQ%3D%3D?line=17'>18</a>\u001b[0m d \u001b[39m=\u001b[39m euclidean\u001b[39m.\u001b[39;49mmulinv(e, totient)\n\u001b[0;32m     <a href='vscode-notebook-cell:/d%3A/Koofr/School/Cybersecurity/Cryptography/Python/RSA/Exercises/rsa.ipynb#W5sZmlsZQ%3D%3D?line=19'>20</a>\u001b[0m C1 \u001b[39m=\u001b[39m \u001b[39mpow\u001b[39m(M1, e, n)\n\u001b[0;32m     <a href='vscode-notebook-cell:/d%3A/Koofr/School/Cybersecurity/Cryptography/Python/RSA/Exercises/rsa.ipynb#W5sZmlsZQ%3D%3D?line=20'>21</a>\u001b[0m C2 \u001b[39m=\u001b[39m \u001b[39mpow\u001b[39m(M2, e, n)\n",
      "File \u001b[1;32mc:\\Users\\giom\\AppData\\Local\\Programs\\Python\\Python312\\Lib\\site-packages\\cryptocourse\\euclidean.py:67\u001b[0m, in \u001b[0;36mmulinv\u001b[1;34m(b, n)\u001b[0m\n\u001b[0;32m     65\u001b[0m     \u001b[39mreturn\u001b[39;00m x \u001b[39m%\u001b[39m n\n\u001b[0;32m     66\u001b[0m \u001b[39melse\u001b[39;00m:\n\u001b[1;32m---> 67\u001b[0m     \u001b[39mraise\u001b[39;00m \u001b[39mValueError\u001b[39;00m(\u001b[39m'\u001b[39m\u001b[39mmultiplicative inverse is not possible if values are not relatively prime \u001b[39m\u001b[39m'\u001b[39m)\n",
      "\u001b[1;31mValueError\u001b[0m: multiplicative inverse is not possible if values are not relatively prime "
     ]
    }
   ],
   "source": [
    "from cryptocourse import euclidean\n",
    "from cryptocourse import primes\n",
    "\n",
    "p = 79\n",
    "q = 89\n",
    "n = p * q\n",
    "print(\"n = \", n)\n",
    "e = 3\n",
    "M1 = 1234\n",
    "M2 = 12345\n",
    "\n",
    "totient = (p - 1) * (q - 1)\n",
    "print(\"totient = \", totient)\n",
    "\n",
    "# Check that e is coprime to totient (gcd(e, totient) = 1) !\n",
    "# In this case gcd(e, totient) = 3 != 1 so we need to change e => e = 5\n",
    "print(euclidean.gcd(e,totient))\n",
    "\n",
    "d = euclidean.mulinv(e, totient)\n",
    "\n",
    "C1 = pow(M1, e, n)\n",
    "C2 = pow(M2, e, n)\n",
    "\n",
    "print(\"C1 = \", C1)\n",
    "print(\"C2 = \", C2)\n",
    "\n",
    "D1 = pow(C1, d, n)\n",
    "D2 = pow(C2, d, n)\n",
    "\n",
    "print(\"D1 = \", D1)\n",
    "## 3962 = decryption did not work, M2 > n\n",
    "print(\"D2 = \", D2)\n"
   ]
  },
  {
   "cell_type": "markdown",
   "metadata": {},
   "source": [
    "- In a public-key system using RSA, you intercept the ciphertext C = 10 sent to a user whose public key\n",
    "is e = 5, n = 35. \n",
    "\n",
    "What is the plaintext M?"
   ]
  },
  {
   "cell_type": "code",
   "execution_count": 21,
   "metadata": {},
   "outputs": [
    {
     "name": "stdout",
     "output_type": "stream",
     "text": [
      "totient =  24\n",
      "1\n",
      "M1 =  5\n"
     ]
    }
   ],
   "source": [
    "from cryptocourse import euclidean\n",
    "from cryptocourse import primes\n",
    "import math\n",
    "\n",
    "n = 35\n",
    "p = 5\n",
    "q = 7\n",
    "e = 5\n",
    "\n",
    "C1 = 10\n",
    "\n",
    "totient = (p - 1) * (q - 1)\n",
    "print(\"totient = \", totient)\n",
    "\n",
    "# Check that e is coprime to totient (gcd(e, totient) = 1) !\n",
    "print(euclidean.gcd(e,totient))\n",
    "\n",
    "d = euclidean.mulinv(e, totient)\n",
    "\n",
    "M1 = pow(C1, d, n)\n",
    "\n",
    "print(\"M1 = \", M1)\n",
    "\n",
    "\n"
   ]
  },
  {
   "cell_type": "markdown",
   "metadata": {},
   "source": [
    "# Find private key - exercise"
   ]
  },
  {
   "cell_type": "markdown",
   "metadata": {},
   "source": [
    "- In an RSA system, the public key of a given user is e = 31, n = 3599. What is the private key of this user?\n",
    "- Perform a standard encryption, decryption with plain = 123. In addition, use the CRT speedup formulas to\n",
    "decrypt."
   ]
  },
  {
   "cell_type": "code",
   "execution_count": 29,
   "metadata": {},
   "outputs": [
    {
     "name": "stdout",
     "output_type": "stream",
     "text": [
      "59.99166608788257\n",
      "61\n",
      "totient =  3480\n",
      "1\n",
      "d =  3031\n"
     ]
    }
   ],
   "source": [
    "from math import sqrt\n",
    "from cryptocourse import primes\n",
    "\n",
    "e = 31\n",
    "n = 3599\n",
    "plain = 123\n",
    "\n",
    "#indien brute forcen, moeten we niet meer proberen met getallen groter dan :\n",
    "print (sqrt(n))\n",
    "\n",
    "p = 3599 / 59 \n",
    "q = 59\n",
    "\n",
    "#of\n",
    "p = primes.largest_prime_factor(n)\n",
    "print (p)\n",
    "\n",
    "totient = (p - 1) * (q - 1)\n",
    "print(\"totient = \", totient)\n",
    "\n",
    "# Check that e is coprime to totient (gcd(e, totient) = 1) !\n",
    "print(euclidean.gcd(e,totient))\n",
    "\n",
    "d = euclidean.mulinv(e, totient)\n",
    "print(\"d = \", d)\n"
   ]
  },
  {
   "cell_type": "markdown",
   "metadata": {},
   "source": [
    "# Example with finding a prime - miller rabin - probablistic"
   ]
  },
  {
   "cell_type": "code",
   "execution_count": null,
   "metadata": {},
   "outputs": [],
   "source": [
    "from cryptocourse import euclidean\n",
    "from cryptocourse import primes\n",
    "\n",
    "p = primes.findAPrime(pow(2,2047), pow(2,2048))\n",
    "q= primes.findAPrime(pow(2,2047), pow(2,2048))\n",
    "\n",
    "n = p * q\n",
    "print(\"n = \", n)\n",
    "\n",
    "totient = (p - 1) * (q - 1)\n",
    "print(\"totient = \", totient)\n",
    "\n",
    "#Chosen because of all the 0's in the binary representation\n",
    "e = 65537\n",
    "bin(e)\n",
    "\n",
    "euclidean.gcd(e,totient)\n",
    "\n",
    "d = euclidean.mulinv(e, totient)\n",
    "\n",
    "M1 = 2341688549213222429\n",
    "\n",
    "C1 = pow(M1, e, n)\n",
    "decrypted = pow(C1, d, n)"
   ]
  },
  {
   "cell_type": "markdown",
   "metadata": {},
   "source": [
    "# RSA 2048 = N = 2048"
   ]
  },
  {
   "cell_type": "code",
   "execution_count": 4,
   "metadata": {},
   "outputs": [
    {
     "name": "stdout",
     "output_type": "stream",
     "text": [
      "n =  15991453870902642514310947955262543637004666207231985804051736382134369133276396216544010294439870205164563848858408782707799396784982591229082407457809316695616649561847115686430162261720388698492412243365161913991662667068849714996854024218277707338790870769453588323584508272670163929797177931070656232181766344856130658934279134909989207957760504918512687660379780805960103638541490402617444766319747588017820795325811607210069028722155943042499767245165621528221509009264977959108464406468770869401386402777781889560460560091833481878303063216720535273081644414790254310927487257373185138601340791408882200417229\n",
      "totient =  15991453870902642514310947955262543637004666207231985804051736382134369133276396216544010294439870205164563848858408782707799396784982591229082407457809316695616649561847115686430162261720388698492412243365161913991662667068849714996854024218277707338790870769453588323584508272670163929797177931070656232181513398019982983479848268555657273431494900478843996955665754875869008172405391110627678921884864634893024717223011650044050066268916315653117558998920031204541143967261173442247912167575460857396469799343531800582931068958965501377329340741112789558834529419538323238958469493844533048219578824780910111317180\n",
      "1\n",
      "d =  8518754864289684536363028747335488707983382007520684321696968438791447505698239844850763498473911662155808979528278185176231633131777655751555991411981611371856637769553176111885649707511515788665442364471436482311929551744933110303647827845469144431570973347928096732425688585309989213987199229893628795610433735930446097917946545490564211514722217457579712554987302351745408140668889550242359682634914538861792253653505389723940307209368851367649422765312665050474394894258542307639335178515868737559326085031072252650430893685939295117038038725509707631994615119625889816722127759419874845956359551562493458753153\n",
      "encrypted =  10329424838322817599725704312057514964740185630274878487980302615333308397746267431139860443866972608354243335465877824934894531715690628602258256361716051658658121403223954385999464705690274038194702957771886891909515332086518572698419584149535985434398094624143469054226158274040882853925117431199850531415327844387226169916778989320031104973547905230347327656494620761471702296692069124467342033995401813849053406081946885579686623661671214931977759650202137416325978299539789847461378017102600382966872680775538094315642955851797160959704737522186154207490726578958067786204941724090999033290123078349967167785717\n",
      "decrypted =  12345678901234567890\n"
     ]
    }
   ],
   "source": [
    "from cryptocourse import euclidean\n",
    "from cryptocourse import primes\n",
    "\n",
    "\n",
    "p = primes.findAPrime(pow(2,1023), pow(2,1024))\n",
    "q= primes.findAPrime(pow(2,1023), pow(2,1024))\n",
    "\n",
    "n = p * q\n",
    "print(\"n = \", n)\n",
    "\n",
    "totient = (p - 1) * (q - 1)\n",
    "print(\"totient = \", totient)\n",
    "\n",
    "e=65537\n",
    "\n",
    "print(euclidean.gcd(e,totient))\n",
    "\n",
    "d= euclidean.mulinv(e, totient)\n",
    "print(\"d = \", d)\n",
    "plain = 12345678901234567890\n",
    "\n",
    "C1 = pow(plain, e, n)\n",
    "decrypted = pow(C1, d, n)\n",
    "\n",
    "print(\"encrypted = \", C1)\n",
    "print(\"decrypted = \", decrypted)"
   ]
  },
  {
   "cell_type": "markdown",
   "metadata": {},
   "source": [
    "# Example where gcd p-1, q-1 = 2 | kleinst gemene veelvoud => sneller"
   ]
  },
  {
   "cell_type": "code",
   "execution_count": 10,
   "metadata": {},
   "outputs": [
    {
     "name": "stdout",
     "output_type": "stream",
     "text": [
      "Check gcd :  2\n",
      "C : 17720641445531650541806737123174890826504343209027582007904689919300607076483168522177406689772926111887042522438760029365701907000073003547464077028820875559955653350252762845955195809464398564580189345698618219084723391943641013158522867072708250904730676195648460008426771597462902586260344523343270488096461665837183730341074927444383675147338459990838301943782053161274683584033481382085967442778087490376983884969545200709752559135777852245664400296121729310532203291852635446114557119726952118572180203127974843841470380107768930863315601302779151130089843771256439399366204933816828111651475226923625302466107\n",
      "decrypted : 12345678901234567890\n"
     ]
    }
   ],
   "source": [
    "from cryptocourse import primes\n",
    "from cryptocourse import euclidean\n",
    "\n",
    "p = primes.findAPrime(pow(2,1023), pow(2,1024))\n",
    "q= primes.findAPrime(pow(2,1023), pow(2,1024))\n",
    "\n",
    "n = p * q\n",
    "\n",
    "#lcm kleinste gemene veelvoud \n",
    "totient = euclidean.lcm(p-1,q-1)\n",
    "e = 65537\n",
    "d = euclidean.mulinv(e, totient)\n",
    "\n",
    "plain = 12345678901234567890\n",
    "\n",
    "C1 = pow(plain, e, n)\n",
    "decrypted = pow(C1, d, n)\n",
    "\n",
    "\n",
    "print (\"Check gcd : \", euclidean.gcd(p-1,q-1))\n",
    "print (\"C :\" , C1)\n",
    "print (\"decrypted :\", decrypted)\n"
   ]
  }
 ],
 "metadata": {
  "kernelspec": {
   "display_name": "Python 3",
   "language": "python",
   "name": "python3"
  },
  "language_info": {
   "codemirror_mode": {
    "name": "ipython",
    "version": 3
   },
   "file_extension": ".py",
   "mimetype": "text/x-python",
   "name": "python",
   "nbconvert_exporter": "python",
   "pygments_lexer": "ipython3",
   "version": "3.12.0"
  }
 },
 "nbformat": 4,
 "nbformat_minor": 2
}
